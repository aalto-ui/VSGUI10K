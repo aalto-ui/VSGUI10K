{
 "cells": [
  {
   "cell_type": "markdown",
   "id": "8ca815eb",
   "metadata": {},
   "source": [
    "# Summary statistics (Table 3)"
   ]
  },
  {
   "cell_type": "code",
   "execution_count": 4,
   "id": "1f0a8aab",
   "metadata": {},
   "outputs": [],
   "source": [
    "import os \n",
    "import sys\n",
    "import pandas as pd\n",
    "import numpy as np\n",
    "import seaborn as sns"
   ]
  },
  {
   "cell_type": "markdown",
   "id": "a4c0642f",
   "metadata": {},
   "source": [
    "## Dictionary to save data to"
   ]
  },
  {
   "cell_type": "code",
   "execution_count": 5,
   "id": "7d4a595c",
   "metadata": {},
   "outputs": [],
   "source": [
    "summary_dict = {k: [] for k in [\"# Fixations\", \n",
    "                                \"# Trials\", \n",
    "                                \"Fixation duration (mean)\", \n",
    "                                \"Search time (mean)\", \n",
    "                                \"Search time (1st quartile)\",\n",
    "                                \"Search time (median)\",\n",
    "                                \"Search time (3rd quartile)\"]} "
   ]
  },
  {
   "cell_type": "markdown",
   "id": "d4c6bc36",
   "metadata": {},
   "source": [
    "## Fixations"
   ]
  },
  {
   "cell_type": "markdown",
   "id": "ce2e0521",
   "metadata": {},
   "source": [
    "### Import data"
   ]
  },
  {
   "cell_type": "code",
   "execution_count": 8,
   "id": "711a7325",
   "metadata": {},
   "outputs": [],
   "source": [
    "fixations = pd.read_csv(os.path.join(\"output\", \"data\", \"vsgui10k_fixations.csv\"))"
   ]
  },
  {
   "cell_type": "code",
   "execution_count": 9,
   "id": "47eed04d",
   "metadata": {},
   "outputs": [
    {
     "data": {
      "text/plain": [
       "295370"
      ]
     },
     "execution_count": 9,
     "metadata": {},
     "output_type": "execute_result"
    }
   ],
   "source": [
    "len(fixations)"
   ]
  },
  {
   "cell_type": "markdown",
   "id": "dcb5fe96",
   "metadata": {},
   "source": [
    "## Valid fixations"
   ]
  },
  {
   "cell_type": "code",
   "execution_count": 14,
   "id": "6a3c0123",
   "metadata": {},
   "outputs": [
    {
     "data": {
      "text/plain": [
       "295370"
      ]
     },
     "execution_count": 14,
     "metadata": {},
     "output_type": "execute_result"
    }
   ],
   "source": [
    "len(fixations[fixations.FPOGV == 1])"
   ]
  },
  {
   "cell_type": "markdown",
   "id": "39dfcbf5",
   "metadata": {},
   "source": [
    "## Number of fixations and durations"
   ]
  },
  {
   "cell_type": "code",
   "execution_count": 10,
   "id": "61538419",
   "metadata": {},
   "outputs": [
    {
     "name": "stdout",
     "output_type": "stream",
     "text": [
      "----------\n",
      "ALL IMAGES\n",
      "----------\n",
      "Number of fixations: 294742\n",
      "Mean fixation duration: 0.40745210136439036\n"
     ]
    }
   ],
   "source": [
    "print (\"----------\")\n",
    "print (\"ALL IMAGES\")\n",
    "print (\"----------\")\n",
    "print (f\"Number of fixations: {len(fixations.drop_duplicates())}\")\n",
    "print (f\"Mean fixation duration: {fixations.FPOGD.mean()}\")"
   ]
  },
  {
   "cell_type": "code",
   "execution_count": 6,
   "id": "5eb40cf1",
   "metadata": {},
   "outputs": [
    {
     "name": "stdout",
     "output_type": "stream",
     "text": [
      "-----------\n",
      "IMG TYPE 0\n",
      "-----------\n",
      "Number of fixations: 69371\n",
      "Mean fixation duration: 0.34991764036845363\n",
      "Mean fixation duration: 0.2428411048140044\n",
      "-----------\n",
      "IMG TYPE 1\n",
      "-----------\n",
      "Number of fixations: 40482\n",
      "Mean fixation duration: 0.4635061306259572\n",
      "Mean fixation duration: 0.405420083402078\n",
      "-----------\n",
      "IMG TYPE 2\n",
      "-----------\n",
      "Number of fixations: 119278\n",
      "Mean fixation duration: 0.33728651293616596\n",
      "Mean fixation duration: 0.1875337404179388\n",
      "-----------\n",
      "IMG TYPE 3\n",
      "-----------\n",
      "Number of fixations: 65611\n",
      "Mean fixation duration: 0.5614156914236943\n",
      "Mean fixation duration: 0.5727494819834863\n"
     ]
    }
   ],
   "source": [
    "for img_type in [0,1,2,3]:\n",
    "    data = fixations[fixations.img_type == img_type]\n",
    "    print (\"-----------\")\n",
    "    print (f\"IMG TYPE {img_type}\")\n",
    "    print (\"-----------\")\n",
    "    print (f\"Number of fixations: {len(data)}\")\n",
    "    print (f\"Mean fixation duration: {data.FPOGD.mean()}\")\n",
    "    print (f\"Mean fixation duration: {data.FPOGD.std()}\")\n",
    "    \n",
    "    if img_type == 2:\n",
    "        summary_dict[\"# Fixations\"].append(len(data))\n",
    "        summary_dict[\"Fixation duration (mean)\"].append(np.around(data.FPOGD.mean(), 3))\n",
    "        summary_dict[\"# Fixations\"].append(\"\")\n",
    "        summary_dict[\"Fixation duration (mean)\"].append(f\"({np.around(data.FPOGD.std(), 3)})\")"
   ]
  },
  {
   "cell_type": "code",
   "execution_count": 7,
   "id": "bd6089c4",
   "metadata": {},
   "outputs": [],
   "source": [
    "fixations = fixations[fixations.img_type == 2]"
   ]
  },
  {
   "cell_type": "code",
   "execution_count": 8,
   "id": "02ca4dbb",
   "metadata": {},
   "outputs": [
    {
     "name": "stdout",
     "output_type": "stream",
     "text": [
      "-----------\n",
      "CATEGORY=web\n",
      "-----------\n",
      "Number of fixations: 50621\n",
      "Mean fixation duration: 0.32469894707729996\n",
      "-----------\n",
      "CATEGORY=desktop\n",
      "-----------\n",
      "Number of fixations: 41623\n",
      "Mean fixation duration: 0.34174861398745887\n",
      "-----------\n",
      "CATEGORY=mobile\n",
      "-----------\n",
      "Number of fixations: 27034\n",
      "Mean fixation duration: 0.353986562476881\n"
     ]
    }
   ],
   "source": [
    "for category in [\"web\", \"desktop\", \"mobile\"]:\n",
    "    data = fixations[fixations.category == category]\n",
    "    print (\"-----------\")\n",
    "    print (f\"CATEGORY={category}\")\n",
    "    print (\"-----------\")\n",
    "    print (f\"Number of fixations: {len(data)}\")\n",
    "    print (f\"Mean fixation duration: {data.FPOGD.mean()}\")\n",
    "    \n",
    "    summary_dict[\"# Fixations\"].append(len(data))\n",
    "    summary_dict[\"Fixation duration (mean)\"].append(np.around(data.FPOGD.mean(), 3))\n",
    "    summary_dict[\"# Fixations\"].append(\"\")\n",
    "    summary_dict[\"Fixation duration (mean)\"].append(f\"({np.around(data.FPOGD.std(), 3)})\")"
   ]
  },
  {
   "cell_type": "code",
   "execution_count": 9,
   "id": "78a320da",
   "metadata": {},
   "outputs": [
    {
     "name": "stdout",
     "output_type": "stream",
     "text": [
      "-----------\n",
      "ABSENT=True\n",
      "-----------\n",
      "Number of fixations: 26795\n",
      "Mean fixation duration: 0.32087387273745105\n",
      "-----------\n",
      "ABSENT=False\n",
      "-----------\n",
      "Number of fixations: 92483\n",
      "Mean fixation duration: 0.3420417295070446\n"
     ]
    }
   ],
   "source": [
    "for absent in [True, False]:\n",
    "    data = fixations[fixations.absent == absent]\n",
    "    print (\"-----------\")\n",
    "    print (f\"ABSENT={absent}\")\n",
    "    print (\"-----------\")\n",
    "    print (f\"Number of fixations: {len(data)}\")\n",
    "    print (f\"Mean fixation duration: {data.FPOGD.mean()}\")\n",
    "    \n",
    "    summary_dict[\"# Fixations\"].append(len(data))\n",
    "    summary_dict[\"Fixation duration (mean)\"].append(np.around(data.FPOGD.mean(), 3))\n",
    "    summary_dict[\"# Fixations\"].append(\"\")\n",
    "    summary_dict[\"Fixation duration (mean)\"].append(f\"({np.around(data.FPOGD.std(), 3)})\")"
   ]
  },
  {
   "cell_type": "code",
   "execution_count": 10,
   "id": "d63228a4",
   "metadata": {},
   "outputs": [
    {
     "name": "stdout",
     "output_type": "stream",
     "text": [
      "-------\n",
      "CUE i\n",
      "-------\n",
      "Number of fixations: 49797\n",
      "Mean fixation duration: 0.33626199570255233\n",
      "-------\n",
      "CUE t\n",
      "-------\n",
      "Number of fixations: 35088\n",
      "Mean fixation duration: 0.3370387425900593\n",
      "-------\n",
      "CUE tc\n",
      "-------\n",
      "Number of fixations: 34393\n",
      "Mean fixation duration: 0.3390226700200622\n"
     ]
    }
   ],
   "source": [
    "for cue in [\"i\", \"t\", \"tc\"]:\n",
    "    data = fixations[fixations.cue == cue]\n",
    "    print (\"-------\")\n",
    "    print (f\"CUE {cue}\")\n",
    "    print (\"-------\")\n",
    "    print (f\"Number of fixations: {len(data)}\")\n",
    "    print (f\"Mean fixation duration: {data.FPOGD.mean()}\")\n",
    "    \n",
    "    summary_dict[\"# Fixations\"].append(len(data))\n",
    "    summary_dict[\"Fixation duration (mean)\"].append(np.around(data.FPOGD.mean(), 3))\n",
    "    summary_dict[\"# Fixations\"].append(\"\")\n",
    "    summary_dict[\"Fixation duration (mean)\"].append(f\"({np.around(data.FPOGD.std(), 3)})\")"
   ]
  },
  {
   "cell_type": "markdown",
   "id": "f1f9c742",
   "metadata": {},
   "source": [
    "## Search times"
   ]
  },
  {
   "cell_type": "markdown",
   "id": "7e1a8f10",
   "metadata": {},
   "source": [
    "### Import data"
   ]
  },
  {
   "cell_type": "code",
   "execution_count": 11,
   "id": "eb9bbdb3",
   "metadata": {},
   "outputs": [],
   "source": [
    "search_times = pd.read_csv(os.path.join(\"data\", \"vsgui10k_search_times.csv\")).drop_duplicates(subset=[\"new_img_name\"])"
   ]
  },
  {
   "cell_type": "markdown",
   "id": "69164fdc",
   "metadata": {},
   "source": [
    "## Number of trials and search times"
   ]
  },
  {
   "cell_type": "code",
   "execution_count": 12,
   "id": "1f4490e4",
   "metadata": {},
   "outputs": [
    {
     "name": "stdout",
     "output_type": "stream",
     "text": [
      "----------\n",
      "ALL TRIALS\n",
      "----------\n",
      "Number of trials: 10282\n",
      "Mean search time: 4.620843351488037\n",
      "STD search time : 4.79216017986394\n"
     ]
    }
   ],
   "source": [
    "print (\"----------\")\n",
    "print (\"ALL TRIALS\")\n",
    "print (\"----------\")\n",
    "print (f\"Number of trials: {len(search_times)}\")\n",
    "print (f\"Mean search time: {search_times.search_time.mean()}\")\n",
    "print (f\"STD search time : {search_times.search_time.std()}\")\n",
    "\n",
    "summary_dict[\"# Trials\"].append(len(search_times))\n",
    "summary_dict[\"Search time (mean)\"].append(np.around(search_times.search_time.mean(), 3))\n",
    "summary_dict[\"# Trials\"].append(\"\")\n",
    "summary_dict[\"Search time (mean)\"].append(f\"({np.around(search_times.search_time.std(), 3)})\")\n",
    "\n",
    "summary_dict[\"Search time (1st quartile)\"].append(np.around(np.quantile(search_times.search_time, 0.25), 3))\n",
    "summary_dict[\"Search time (1st quartile)\"].append(\"\")\n",
    "summary_dict[\"Search time (median)\"].append(np.around(np.quantile(search_times.search_time, 0.5), 3))\n",
    "summary_dict[\"Search time (median)\"].append(\"\")\n",
    "summary_dict[\"Search time (3rd quartile)\"].append(np.around(np.quantile(search_times.search_time, 0.75), 3))\n",
    "summary_dict[\"Search time (3rd quartile)\"].append(\"\")"
   ]
  },
  {
   "cell_type": "code",
   "execution_count": 13,
   "id": "d112662f",
   "metadata": {},
   "outputs": [
    {
     "name": "stdout",
     "output_type": "stream",
     "text": [
      "-----------\n",
      "CATEGORY=web\n",
      "-----------\n",
      "Number of trials: 3521\n",
      "Mean search time: 5.564961153081511\n",
      "-----------\n",
      "CATEGORY=desktop\n",
      "-----------\n",
      "Number of trials: 3422\n",
      "Mean search time: 4.9178379485680885\n",
      "-----------\n",
      "CATEGORY=mobile\n",
      "-----------\n",
      "Number of trials: 3339\n",
      "Mean search time: 3.3208869901168017\n"
     ]
    }
   ],
   "source": [
    "for category in [\"web\", \"desktop\", \"mobile\"]:\n",
    "    data = search_times[search_times.category == category]\n",
    "    print (\"-----------\")\n",
    "    print (f\"CATEGORY={category}\")\n",
    "    print (\"-----------\")\n",
    "    print (f\"Number of trials: {len(data)}\")\n",
    "    print (f\"Mean search time: {data.search_time.mean()}\")\n",
    "    \n",
    "    summary_dict[\"# Trials\"].append(len(data))\n",
    "    summary_dict[\"Search time (mean)\"].append(np.around(data.search_time.mean(), 3))\n",
    "    summary_dict[\"# Trials\"].append(\"\")\n",
    "    summary_dict[\"Search time (mean)\"].append(f\"({np.around(data.search_time.std(), 3)})\")\n",
    "    \n",
    "    summary_dict[\"Search time (1st quartile)\"].append(np.around(np.quantile(data.search_time, 0.25), 3))\n",
    "    summary_dict[\"Search time (1st quartile)\"].append(\"\")\n",
    "    summary_dict[\"Search time (median)\"].append(np.around(np.quantile(data.search_time, 0.5), 3))\n",
    "    summary_dict[\"Search time (median)\"].append(\"\")\n",
    "    summary_dict[\"Search time (3rd quartile)\"].append(np.around(np.quantile(data.search_time, 0.75), 3))\n",
    "    summary_dict[\"Search time (3rd quartile)\"].append(\"\")"
   ]
  },
  {
   "cell_type": "code",
   "execution_count": 14,
   "id": "a0791eca",
   "metadata": {},
   "outputs": [
    {
     "name": "stdout",
     "output_type": "stream",
     "text": [
      "-----------\n",
      "ABSENT=True\n",
      "-----------\n",
      "Number of trials: 916\n",
      "Mean search time: 11.195288122270743\n",
      "-----------\n",
      "ABSENT=False\n",
      "-----------\n",
      "Number of trials: 9366\n",
      "Mean search time: 3.9778590027759986\n"
     ]
    }
   ],
   "source": [
    "for absent in [True, False]:\n",
    "    data = search_times[search_times.absent == absent]\n",
    "    print (\"-----------\")\n",
    "    print (f\"ABSENT={absent}\")\n",
    "    print (\"-----------\")\n",
    "    print (f\"Number of trials: {len(data)}\")\n",
    "    print (f\"Mean search time: {data.search_time.mean()}\")\n",
    "    \n",
    "    summary_dict[\"# Trials\"].append(len(data))\n",
    "    summary_dict[\"Search time (mean)\"].append(np.around(data.search_time.mean(), 3))\n",
    "    summary_dict[\"# Trials\"].append(\"\")\n",
    "    summary_dict[\"Search time (mean)\"].append(f\"({np.around(data.search_time.std(), 3)})\")\n",
    "    \n",
    "        \n",
    "    summary_dict[\"Search time (1st quartile)\"].append(np.around(np.quantile(data.search_time, 0.25), 3))\n",
    "    summary_dict[\"Search time (1st quartile)\"].append(\"\")\n",
    "    summary_dict[\"Search time (median)\"].append(np.around(np.quantile(data.search_time, 0.5), 3))\n",
    "    summary_dict[\"Search time (median)\"].append(\"\")\n",
    "    summary_dict[\"Search time (3rd quartile)\"].append(np.around(np.quantile(data.search_time, 0.75), 3))\n",
    "    summary_dict[\"Search time (3rd quartile)\"].append(\"\")"
   ]
  },
  {
   "cell_type": "code",
   "execution_count": 15,
   "id": "13843b38",
   "metadata": {},
   "outputs": [
    {
     "name": "stdout",
     "output_type": "stream",
     "text": [
      "-----------\n",
      "cue=i\n",
      "-----------\n",
      "Number of trials: 5093\n",
      "Mean search time: 3.878116558020813\n",
      "-----------\n",
      "cue=t\n",
      "-----------\n",
      "Number of trials: 2606\n",
      "Mean search time: 5.368232916346892\n",
      "-----------\n",
      "cue=tc\n",
      "-----------\n",
      "Number of trials: 2583\n",
      "Mean search time: 5.3312616066589245\n"
     ]
    }
   ],
   "source": [
    "for cue in [\"i\", \"t\", \"tc\"]:\n",
    "    data = search_times[search_times.cue == cue]\n",
    "    print (\"-----------\")\n",
    "    print (f\"cue={cue}\")\n",
    "    print (\"-----------\")\n",
    "    print (f\"Number of trials: {len(data)}\")\n",
    "    print (f\"Mean search time: {data.search_time.mean()}\")\n",
    "    \n",
    "    summary_dict[\"# Trials\"].append(len(data))\n",
    "    summary_dict[\"Search time (mean)\"].append(np.around(data.search_time.mean(), 3))\n",
    "    summary_dict[\"# Trials\"].append(\"\")\n",
    "    summary_dict[\"Search time (mean)\"].append(f\"({np.around(data.search_time.std(), 3)})\")\n",
    "    \n",
    "        \n",
    "    summary_dict[\"Search time (1st quartile)\"].append(np.around(np.quantile(data.search_time, 0.25), 3))\n",
    "    summary_dict[\"Search time (1st quartile)\"].append(\"\")\n",
    "    summary_dict[\"Search time (median)\"].append(np.around(np.quantile(data.search_time, 0.5), 3))\n",
    "    summary_dict[\"Search time (median)\"].append(\"\")\n",
    "    summary_dict[\"Search time (3rd quartile)\"].append(np.around(np.quantile(data.search_time, 0.75), 3))\n",
    "    summary_dict[\"Search time (3rd quartile)\"].append(\"\")"
   ]
  },
  {
   "cell_type": "code",
   "execution_count": 16,
   "id": "e3246cbf",
   "metadata": {},
   "outputs": [],
   "source": [
    "idx = [\"All searches\", \n",
    "                                               \"\",\n",
    "                                               \"Webpages\",\n",
    "                                               \"\",\n",
    "                                               \"Desktop UIs\",\n",
    "                                               \"\",\n",
    "                                               \"Mobile UIs\", \n",
    "                                               \"\",\n",
    "                                               \"Target absent\",\n",
    "                                               \"\",\n",
    "                                               \"Target present\", \n",
    "                                               \"\",\n",
    "                                               \"Image cue\",\n",
    "                                               \"\",\n",
    "                                               \"Text cue\",\n",
    "                                               \"\",\n",
    "                                               \"Text+color cue\", \n",
    "                                               \"\"]"
   ]
  },
  {
   "cell_type": "markdown",
   "id": "d979bb5e",
   "metadata": {},
   "source": [
    "## Convert to Latex"
   ]
  },
  {
   "cell_type": "code",
   "execution_count": 17,
   "id": "83379850",
   "metadata": {},
   "outputs": [],
   "source": [
    "summary_df = pd.DataFrame(summary_dict, index=idx)\n",
    "summary_df = summary_df.drop(columns = [\"Fixation duration (mean)\", \"Search time (1st quartile)\", \"Search time (3rd quartile)\"])"
   ]
  },
  {
   "cell_type": "code",
   "execution_count": 18,
   "id": "1d0b481c",
   "metadata": {},
   "outputs": [
    {
     "name": "stdout",
     "output_type": "stream",
     "text": [
      "\\begin{table}\n",
      "\\caption{Caption}\n",
      "\\begin{tabular}{lllll}\n",
      "\\toprule\n",
      " & # Fixations & # Trials & Search time (mean) & Search time (median) \\\\\n",
      "\\midrule\n",
      "All searches & 119278 & 10282 & 4.621000 & 2.975000 \\\\\n",
      " &  &  & (4.792) &  \\\\\n",
      "Webpages & 50621 & 3521 & 5.565000 & 3.477000 \\\\\n",
      " &  &  & (5.724) &  \\\\\n",
      "Desktop UIs & 41623 & 3422 & 4.918000 & 3.268000 \\\\\n",
      " &  &  & (4.859) &  \\\\\n",
      "Mobile UIs & 27034 & 3339 & 3.321000 & 2.394000 \\\\\n",
      " &  &  & (3.042) &  \\\\\n",
      "Target absent & 26795 & 916 & 11.195000 & 9.769000 \\\\\n",
      " &  &  & (7.25) &  \\\\\n",
      "Target present & 92483 & 9366 & 3.978000 & 2.765000 \\\\\n",
      " &  &  & (3.929) &  \\\\\n",
      "Image cue & 49797 & 5093 & 3.878000 & 2.570000 \\\\\n",
      " &  &  & (4.083) &  \\\\\n",
      "Text cue & 35088 & 2606 & 5.368000 & 3.518000 \\\\\n",
      " &  &  & (5.368) &  \\\\\n",
      "Text+color cue & 34393 & 2583 & 5.331000 & 3.477000 \\\\\n",
      " &  &  & (5.228) &  \\\\\n",
      "\\bottomrule\n",
      "\\end{tabular}\n",
      "\\end{table}\n",
      "\n"
     ]
    }
   ],
   "source": [
    "print(summary_df.to_latex(columns = list(summary_df.keys()), index=idx, multirow=True, caption=\"Caption\"))"
   ]
  },
  {
   "cell_type": "code",
   "execution_count": null,
   "id": "bb0ae8f9",
   "metadata": {},
   "outputs": [],
   "source": []
  },
  {
   "cell_type": "code",
   "execution_count": null,
   "id": "21c54670",
   "metadata": {},
   "outputs": [],
   "source": []
  }
 ],
 "metadata": {
  "kernelspec": {
   "display_name": "Python 3 (ipykernel)",
   "language": "python",
   "name": "python3"
  }
 },
 "nbformat": 4,
 "nbformat_minor": 5
}
